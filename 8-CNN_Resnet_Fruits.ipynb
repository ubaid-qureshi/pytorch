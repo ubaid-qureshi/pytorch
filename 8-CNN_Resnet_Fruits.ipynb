{
 "cells": [
  {
   "cell_type": "markdown",
   "metadata": {},
   "source": [
    "<b>Summary: </b> Using pretrained CNN model to classify different blood cells <br>\n",
    "<b>Dataset: </b> https://www.kaggle.com/moltean/fruits/home"
   ]
  },
  {
   "cell_type": "code",
   "execution_count": 1,
   "metadata": {},
   "outputs": [],
   "source": [
    "import torch\n",
    "from torchvision import datasets, models, transforms"
   ]
  },
  {
   "cell_type": "markdown",
   "metadata": {},
   "source": [
    "#### Collecting datasets"
   ]
  },
  {
   "cell_type": "markdown",
   "metadata": {},
   "source": [
    "Image augmentation and normalization <br>\n",
    "\n",
    "* Transforms can be chained together using Compose\n",
    "\n",
    "* In image augmentation we randomly flip images, so that our model can detect wrongly oriented images too\n",
    "\n",
    "* All pre-trained models expect input images normalized in the same way, i.e. mini-batches of 3-channel RGB images of shape (3 x H x W), where H and W are expected to be at least 224. The images have to be loaded in to a range of [0, 1] and then normalized using mean = [0.485, 0.456, 0.406] and std = [0.229, 0.224, 0.225]\n",
    "\n",
    "* We first Resize the image to 256 then crop it to 224, so that it doesnt cut important features\n",
    "\n",
    "ref-https://pytorch.org/docs/stable/torchvision/models.html#id3"
   ]
  },
  {
   "cell_type": "code",
   "execution_count": 2,
   "metadata": {},
   "outputs": [],
   "source": [
    "mean = [0.485, 0.456, 0.406]\n",
    "std = [0.229, 0.224, 0.225]"
   ]
  },
  {
   "cell_type": "code",
   "execution_count": 3,
   "metadata": {},
   "outputs": [],
   "source": [
    "train_transform = transforms.Compose([\n",
    "                                transforms.Resize(256),\n",
    "                                transforms.RandomResizedCrop(224),\n",
    "                                transforms.RandomHorizontalFlip(),\n",
    "                                transforms.ToTensor(),\n",
    "                                transforms.Normalize(mean, std)])\n",
    "\n",
    "test_transform = transforms.Compose([\n",
    "                                transforms.Resize(256),\n",
    "                                transforms.CenterCrop(224),\n",
    "                                transforms.ToTensor(),\n",
    "                                transforms.Normalize(mean, std)])"
   ]
  },
  {
   "cell_type": "code",
   "execution_count": null,
   "metadata": {},
   "outputs": [],
   "source": []
  },
  {
   "cell_type": "code",
   "execution_count": 4,
   "metadata": {},
   "outputs": [],
   "source": [
    "data_dir = 'datasets/fruits'"
   ]
  },
  {
   "cell_type": "code",
   "execution_count": 5,
   "metadata": {},
   "outputs": [],
   "source": [
    "image_datasets ={}"
   ]
  },
  {
   "cell_type": "markdown",
   "metadata": {},
   "source": [
    "#### Use a generic data loader available in pytorch\n",
    "A call to ImageFolder(Path, Transform) applies our transormations to all the images in the specified directory"
   ]
  },
  {
   "cell_type": "code",
   "execution_count": 6,
   "metadata": {},
   "outputs": [],
   "source": [
    "image_datasets['train']= datasets.ImageFolder(data_dir + '/Train', train_transform)"
   ]
  },
  {
   "cell_type": "code",
   "execution_count": 7,
   "metadata": {},
   "outputs": [],
   "source": [
    "image_datasets['test']= datasets.ImageFolder(data_dir + '/Test', test_transform)"
   ]
  },
  {
   "cell_type": "code",
   "execution_count": 8,
   "metadata": {},
   "outputs": [
    {
     "name": "stdout",
     "output_type": "stream",
     "text": [
      "Training data size - 4787\n",
      "Test data size - 1612\n"
     ]
    }
   ],
   "source": [
    "print(\"Training data size - %d\" %  len(image_datasets['train']))\n",
    "print(\"Test data size - %d\" %  len(image_datasets['test']))"
   ]
  },
  {
   "cell_type": "markdown",
   "metadata": {},
   "source": [
    "#### Examine the types of fruits in the dataset"
   ]
  },
  {
   "cell_type": "code",
   "execution_count": 9,
   "metadata": {},
   "outputs": [
    {
     "data": {
      "text/plain": [
       "['Apple ',\n",
       " 'Avocado',\n",
       " 'Banana',\n",
       " 'Mango',\n",
       " 'Orange',\n",
       " 'Pear',\n",
       " 'Pineapple',\n",
       " 'Plum',\n",
       " 'Raspberry',\n",
       " 'Strawberry']"
      ]
     },
     "execution_count": 9,
     "metadata": {},
     "output_type": "execute_result"
    }
   ],
   "source": [
    "class_names = image_datasets['train'].classes\n",
    "class_names"
   ]
  },
  {
   "cell_type": "markdown",
   "metadata": {},
   "source": [
    "#### What does our dataset look like?"
   ]
  },
  {
   "cell_type": "code",
   "execution_count": 10,
   "metadata": {},
   "outputs": [
    {
     "data": {
      "text/plain": [
       "{'train': Dataset ImageFolder\n",
       "     Number of datapoints: 4787\n",
       "     Root Location: datasets/fruits/Train\n",
       "     Transforms (if any): Compose(\n",
       "                              Resize(size=256, interpolation=PIL.Image.BILINEAR)\n",
       "                              RandomResizedCrop(size=(224, 224), scale=(0.08, 1.0), ratio=(0.75, 1.3333), interpolation=PIL.Image.BILINEAR)\n",
       "                              RandomHorizontalFlip(p=0.5)\n",
       "                              ToTensor()\n",
       "                              Normalize(mean=[0.485, 0.456, 0.406], std=[0.229, 0.224, 0.225])\n",
       "                          )\n",
       "     Target Transforms (if any): None, 'test': Dataset ImageFolder\n",
       "     Number of datapoints: 1612\n",
       "     Root Location: datasets/fruits/Test\n",
       "     Transforms (if any): Compose(\n",
       "                              Resize(size=256, interpolation=PIL.Image.BILINEAR)\n",
       "                              CenterCrop(size=(224, 224))\n",
       "                              ToTensor()\n",
       "                              Normalize(mean=[0.485, 0.456, 0.406], std=[0.229, 0.224, 0.225])\n",
       "                          )\n",
       "     Target Transforms (if any): None}"
      ]
     },
     "execution_count": 10,
     "metadata": {},
     "output_type": "execute_result"
    }
   ],
   "source": [
    "image_datasets"
   ]
  },
  {
   "cell_type": "markdown",
   "metadata": {},
   "source": [
    "### Data Loaders\n",
    "Data loader combines a dataset and provides single or multi-process iterators over the dataset\n",
    "* <b>batch_size</b> = how many samples per batch to load (default: 1).<br>\n",
    "* <b>shuffle = True</b>, to have the data reshuffled at every epoch <br>\n",
    "* <b>num_workers= 4</b>, 4 subprocesses will be used for data loading.\n",
    "0 means that the data will be loaded in the main process. (default: 0)"
   ]
  },
  {
   "cell_type": "code",
   "execution_count": 11,
   "metadata": {},
   "outputs": [],
   "source": [
    "dataloaders ={}"
   ]
  },
  {
   "cell_type": "code",
   "execution_count": 12,
   "metadata": {},
   "outputs": [],
   "source": [
    "dataloaders['train'] = torch.utils.data.DataLoader(image_datasets['train'],\n",
    "                                                   batch_size=8,\n",
    "                                                   shuffle=True,\n",
    "                                                   num_workers=4)"
   ]
  },
  {
   "cell_type": "code",
   "execution_count": 13,
   "metadata": {},
   "outputs": [],
   "source": [
    "dataloaders['test'] = torch.utils.data.DataLoader(image_datasets['test'],\n",
    "                                                  batch_size=8,\n",
    "                                                  shuffle=True,\n",
    "                                                  num_workers=4)"
   ]
  },
  {
   "cell_type": "code",
   "execution_count": 14,
   "metadata": {},
   "outputs": [
    {
     "data": {
      "text/plain": [
       "{'train': <torch.utils.data.dataloader.DataLoader at 0x11259fd68>,\n",
       " 'test': <torch.utils.data.dataloader.DataLoader at 0x11259fc50>}"
      ]
     },
     "execution_count": 14,
     "metadata": {},
     "output_type": "execute_result"
    }
   ],
   "source": [
    "dataloaders"
   ]
  },
  {
   "cell_type": "code",
   "execution_count": null,
   "metadata": {},
   "outputs": [],
   "source": []
  },
  {
   "cell_type": "markdown",
   "metadata": {},
   "source": [
    "#### Get a batch of training data\n",
    "Which we will go on to examine"
   ]
  },
  {
   "cell_type": "code",
   "execution_count": 15,
   "metadata": {},
   "outputs": [],
   "source": [
    "inputs, labels = next(iter(dataloaders['train']))"
   ]
  },
  {
   "cell_type": "markdown",
   "metadata": {},
   "source": [
    "#### Check out the shape of this batch of images\n",
    "The first dimension gives the number of images. The next dimension represents the number of channels. The last two give the image size"
   ]
  },
  {
   "cell_type": "code",
   "execution_count": 16,
   "metadata": {},
   "outputs": [
    {
     "data": {
      "text/plain": [
       "torch.Size([8, 3, 224, 224])"
      ]
     },
     "execution_count": 16,
     "metadata": {},
     "output_type": "execute_result"
    }
   ],
   "source": [
    "inputs.shape"
   ]
  },
  {
   "cell_type": "markdown",
   "metadata": {},
   "source": [
    "#### Take a look at the labels for this image batch"
   ]
  },
  {
   "cell_type": "code",
   "execution_count": 17,
   "metadata": {},
   "outputs": [
    {
     "data": {
      "text/plain": [
       "tensor([ 0,  4,  2,  0,  4,  3,  9,  9])"
      ]
     },
     "execution_count": 17,
     "metadata": {},
     "output_type": "execute_result"
    }
   ],
   "source": [
    "labels"
   ]
  },
  {
   "cell_type": "code",
   "execution_count": null,
   "metadata": {},
   "outputs": [],
   "source": []
  },
  {
   "cell_type": "markdown",
   "metadata": {},
   "source": [
    "#### Create a grid to display the batch of images\n",
    "torchvision is a module which contains datasets, model architectures and image transformation tools. Here, we use one of its utilities to create a grid of images from our batch "
   ]
  },
  {
   "cell_type": "code",
   "execution_count": 18,
   "metadata": {},
   "outputs": [],
   "source": [
    "import torchvision\n",
    "\n",
    "inp = torchvision.utils.make_grid(inputs)"
   ]
  },
  {
   "cell_type": "markdown",
   "metadata": {},
   "source": [
    "#### Examine the shape\n",
    "The grid effectively contains all the 8 images placed side by side with padding of 2 pixels between the images and at the edges of the grid"
   ]
  },
  {
   "cell_type": "code",
   "execution_count": 19,
   "metadata": {},
   "outputs": [
    {
     "data": {
      "text/plain": [
       "torch.Size([3, 228, 1810])"
      ]
     },
     "execution_count": 19,
     "metadata": {},
     "output_type": "execute_result"
    }
   ],
   "source": [
    "inp.shape"
   ]
  },
  {
   "cell_type": "markdown",
   "metadata": {},
   "source": [
    "#### Examine the maximum pixel value in the batch"
   ]
  },
  {
   "cell_type": "code",
   "execution_count": 20,
   "metadata": {},
   "outputs": [
    {
     "data": {
      "text/plain": [
       "tensor(2.6400)"
      ]
     },
     "execution_count": 20,
     "metadata": {},
     "output_type": "execute_result"
    }
   ],
   "source": [
    "inp.max()"
   ]
  },
  {
   "cell_type": "markdown",
   "metadata": {},
   "source": [
    "#### Scale the RGB values to be in the [0,1] range\n",
    "In maltplotlib floating point image RGB values must be in the 0-1 range. To do that we will use np.clip() method"
   ]
  },
  {
   "cell_type": "code",
   "execution_count": 21,
   "metadata": {},
   "outputs": [
    {
     "data": {
      "text/plain": [
       "tensor(1.)"
      ]
     },
     "execution_count": 21,
     "metadata": {},
     "output_type": "execute_result"
    }
   ],
   "source": [
    "import numpy as np\n",
    "\n",
    "np.clip(inp, 0, 1).max()"
   ]
  },
  {
   "cell_type": "markdown",
   "metadata": {},
   "source": [
    "#### Transposing the image\n",
    "We will use np.transpose to change the shape of image tensor<br>\n",
    "<b>.imshow()</b> needs a 2D array, or a 3D array with the third dimension being of size 3 or 4 only (For RGB or RGBA), so we will shift first axis to last<br>\n",
    "Ref - https://matplotlib.org/api/pyplot_api.html#matplotlib.pyplot.imshow"
   ]
  },
  {
   "cell_type": "code",
   "execution_count": 22,
   "metadata": {},
   "outputs": [
    {
     "data": {
      "text/plain": [
       "(228, 1810, 3)"
      ]
     },
     "execution_count": 22,
     "metadata": {},
     "output_type": "execute_result"
    }
   ],
   "source": [
    "inp.numpy().transpose((1, 2, 0)).shape"
   ]
  },
  {
   "cell_type": "code",
   "execution_count": null,
   "metadata": {},
   "outputs": [],
   "source": []
  },
  {
   "cell_type": "markdown",
   "metadata": {},
   "source": [
    "#### Use Matplotlib to plot the image grid"
   ]
  },
  {
   "cell_type": "code",
   "execution_count": 23,
   "metadata": {},
   "outputs": [],
   "source": [
    "import matplotlib.pyplot as plt\n",
    "\n",
    "plt.ion()"
   ]
  },
  {
   "cell_type": "markdown",
   "metadata": {},
   "source": [
    "#### We define our custome function to display the images\n",
    "Here, we perform the transpose and clip operations discussed above. <br />\n",
    "The line <i>inp = std * inp + mean</i> is meant to normalize the pixel values. <br />\n"
   ]
  },
  {
   "cell_type": "code",
   "execution_count": 24,
   "metadata": {},
   "outputs": [],
   "source": [
    "def img_show(inp, title=None):\n",
    "    \n",
    "    inp = inp.numpy().transpose((1, 2, 0))\n",
    "    inp = std * inp + mean\n",
    "    inp = np.clip(inp, 0, 1)\n",
    "    \n",
    "    plt.figure(figsize=(16,4))\n",
    "    plt.axis('off')\n",
    "    plt.imshow(inp)\n",
    "    \n",
    "    if title is not None:\n",
    "        plt.title(title)"
   ]
  },
  {
   "cell_type": "code",
   "execution_count": 25,
   "metadata": {},
   "outputs": [
    {
     "data": {
      "image/png": "[encoded data removed]",
      "text/plain": [
       "<Figure size 1152x288 with 1 Axes>"
      ]
     },
     "metadata": {},
     "output_type": "display_data"
    }
   ],
   "source": [
    "img_show(inp, title=[class_names[x] for x in labels])"
   ]
  },
  {
   "cell_type": "markdown",
   "metadata": {},
   "source": [
    "#### Load the Resnet pretrained model"
   ]
  },
  {
   "cell_type": "code",
   "execution_count": 26,
   "metadata": {},
   "outputs": [],
   "source": [
    "model = models.resnet18(pretrained=True)"
   ]
  },
  {
   "cell_type": "markdown",
   "metadata": {},
   "source": [
    "#### Check the input feature size for our linear layer\n",
    "The final layer of our pre-trained model will be the input to a final Linear layer we need to add. To get the number of input features for our linear layer, we check the value of model.fc.in_features"
   ]
  },
  {
   "cell_type": "code",
   "execution_count": 27,
   "metadata": {},
   "outputs": [
    {
     "data": {
      "text/plain": [
       "512"
      ]
     },
     "execution_count": 27,
     "metadata": {},
     "output_type": "execute_result"
    }
   ],
   "source": [
    "num_ftrs = model.fc.in_features\n",
    "num_ftrs"
   ]
  },
  {
   "cell_type": "code",
   "execution_count": 28,
   "metadata": {},
   "outputs": [],
   "source": [
    "import torch.nn as nn"
   ]
  },
  {
   "cell_type": "markdown",
   "metadata": {},
   "source": [
    "#### Adding last layer,\n",
    "We have 10 discrete output labels, hence last layer must 10 output neurons(nodes)"
   ]
  },
  {
   "cell_type": "code",
   "execution_count": 29,
   "metadata": {},
   "outputs": [],
   "source": [
    "model.fc = nn.Linear(num_ftrs, len(class_names))"
   ]
  },
  {
   "cell_type": "markdown",
   "metadata": {},
   "source": [
    "#### The criterion to minimize in the loss function\n",
    "Given this is a classification model, we will look to minimize the cross-entropy loss"
   ]
  },
  {
   "cell_type": "code",
   "execution_count": 30,
   "metadata": {},
   "outputs": [],
   "source": [
    "criterion = nn.CrossEntropyLoss()"
   ]
  },
  {
   "cell_type": "markdown",
   "metadata": {},
   "source": [
    "### Set up the optimizer\n",
    "We define a simple SGD optimizer with momentum which accelerate gradients vectors in the right directions and hence leads to faster converging"
   ]
  },
  {
   "cell_type": "code",
   "execution_count": 31,
   "metadata": {},
   "outputs": [],
   "source": [
    "import torch.optim as optim\n",
    "\n",
    "optimizer = optim.SGD(model.parameters(), \n",
    "                      lr=0.001, \n",
    "                      momentum=0.9)"
   ]
  },
  {
   "cell_type": "markdown",
   "metadata": {},
   "source": [
    "#### Decay Learning Rate by a factor of 0.1 every 7 epochs\n",
    "This will speed up the computation as we don't need the same learning rate while getting closer to convergence"
   ]
  },
  {
   "cell_type": "code",
   "execution_count": 32,
   "metadata": {},
   "outputs": [],
   "source": [
    "from torch.optim import lr_scheduler\n",
    "\n",
    "exp_lr_scheduler = lr_scheduler.StepLR(optimizer, \n",
    "                                       step_size=7, \n",
    "                                       gamma=0.1)"
   ]
  },
  {
   "cell_type": "markdown",
   "metadata": {},
   "source": [
    "#### A function to calculate the loss and accuracy of our model\n",
    "calculate_accuracy will calculate loss and accuracy per epoch and will be used in training as well as while testing"
   ]
  },
  {
   "cell_type": "code",
   "execution_count": 35,
   "metadata": {},
   "outputs": [],
   "source": [
    "def calculate_accuracy(phase, running_loss, running_corrects):\n",
    "\n",
    "    epoch_loss = running_loss / len(image_datasets[phase])\n",
    "    epoch_acc = running_corrects.double() / len(image_datasets[phase])\n",
    "\n",
    "    print('{} Loss: {:.4f} Acc: {:.4f}'.format( phase, epoch_loss, epoch_acc))\n",
    "    \n",
    "    return (epoch_loss, epoch_acc)"
   ]
  },
  {
   "cell_type": "markdown",
   "metadata": {},
   "source": [
    "#### Define the training phase\n",
    "This will be the training operation performed at each epoch\n",
    "\n",
    "* <b>scheduler.step()</b> will set up the scheduler for each step in order to decay the learning rate\n",
    "* <b>model.train()</b> will set the pre-trained model into training mode. This is only available for pre-trained models\n",
    "* <b>running_loss</b> will keep track of the loss at each iteration\n",
    "* <b>running_corrects</b> keeps a count of the number of correct predictions which will be used to calculate the accuracy of the model\n",
    "<br />\n",
    "* By setting <b>torch.set_grad_enabled(True)</b> we are enabling Autograd\n",
    "* <b>outputs</b> is the list probabilities for each possible label for the batch of images (which are the inputs). We use torch.max() to get the index of the highest probability label for each image in the batch"
   ]
  },
  {
   "cell_type": "code",
   "execution_count": 36,
   "metadata": {},
   "outputs": [],
   "source": [
    "def phase_train(model, criterion, optimizer, scheduler):\n",
    "    \n",
    "    scheduler.step()\n",
    "    model.train()\n",
    "    running_loss = 0.0\n",
    "    running_corrects = 0\n",
    "    \n",
    "    \n",
    "    for inputs, labels in dataloaders['train']:\n",
    "\n",
    "        optimizer.zero_grad()\n",
    "        \n",
    "        with torch.set_grad_enabled(True):\n",
    "            outputs = model(inputs)\n",
    "            _, preds = torch.max(outputs, 1)\n",
    "            loss = criterion(outputs, labels)\n",
    "            \n",
    "            loss.backward()\n",
    "            optimizer.step()\n",
    "        \n",
    "        running_loss += loss.item() * inputs.size(0)\n",
    "        running_corrects += torch.sum(preds == labels.data)\n",
    "    \n",
    "    calculate_accuracy('train', running_loss, running_corrects) "
   ]
  },
  {
   "cell_type": "code",
   "execution_count": 37,
   "metadata": {},
   "outputs": [],
   "source": [
    "import copy"
   ]
  },
  {
   "cell_type": "markdown",
   "metadata": {},
   "source": [
    "#### Initialize the value of accuracy to 0\n",
    "This will be used in the test phase to calculate the accuracy of the model"
   ]
  },
  {
   "cell_type": "code",
   "execution_count": 38,
   "metadata": {},
   "outputs": [],
   "source": [
    "best_acc = 0.0"
   ]
  },
  {
   "cell_type": "markdown",
   "metadata": {},
   "source": [
    "#### Define the test phase\n",
    "This will be the test operation performed at each epoch\n",
    "\n",
    "* <b>model.eval()</b> will set the pre-trained model into evaluation mode. This is only available for pre-trained models\n",
    "* <b>running_loss</b> will keep track of the loss at each iteration\n",
    "* <b>running_corrects</b> keeps a count of the number of correct predictions which will be used to calculate the accuracy of the model\n",
    "<br />\n",
    "* By setting <b>torch.no_grad()</b> we are disabling Autograd\n",
    "* <b>outputs</b> is the list probabilities for each possible label for the batch of images (which are the inputs). We use torch.max() to get the index of the highest probability label for each image in the batch\n",
    "<br />\n",
    "\n",
    "Once the accuracy is calculated, we check to see if the accuracy in this has improved since the previous epoch. If not, we do not adjust the weights of the model. If so, we set the weights of the model to be the ones calculated in this epoch and return those values"
   ]
  },
  {
   "cell_type": "code",
   "execution_count": 39,
   "metadata": {},
   "outputs": [],
   "source": [
    "def phase_test(model, criterion, optimizer):\n",
    "    \n",
    "    model.eval()\n",
    "    running_loss = 0.0\n",
    "    running_corrects = 0\n",
    "    global best_acc\n",
    "    \n",
    "    for inputs, labels in dataloaders['test']:\n",
    "\n",
    "        optimizer.zero_grad()\n",
    "        \n",
    "        with torch.no_grad():\n",
    "            outputs = model(inputs)\n",
    "            _, preds = torch.max(outputs, 1)\n",
    "            loss = criterion(outputs, labels)\n",
    "        \n",
    "        running_loss += loss.item() * inputs.size(0)\n",
    "        running_corrects += torch.sum(preds == labels.data)\n",
    "        \n",
    "    epoch_loss, epoch_acc = calculate_accuracy('test', running_loss, running_corrects)\n",
    "    \n",
    "    if epoch_acc > best_acc:\n",
    "        best_acc = epoch_acc\n",
    "        best_model_wts = copy.deepcopy(model.state_dict())\n",
    "        \n",
    "    return best_model_wts"
   ]
  },
  {
   "cell_type": "code",
   "execution_count": null,
   "metadata": {},
   "outputs": [],
   "source": []
  },
  {
   "cell_type": "markdown",
   "metadata": {},
   "source": [
    "#### We build upon our pre-trained model\n",
    "* we initialize the <b>best_model_wts</b> from the weights of the pre-trained model\n",
    "* perform the training and testing and update the model weights if it has supplied improved accuracy in the epoch"
   ]
  },
  {
   "cell_type": "code",
   "execution_count": 40,
   "metadata": {},
   "outputs": [],
   "source": [
    "def build_model(model, criterion, optimizer, scheduler, num_epochs=10):\n",
    "    \n",
    "    best_model_wts = copy.deepcopy(model.state_dict())\n",
    "\n",
    "    for epoch in range(num_epochs):\n",
    "        print('Epoch {}/{}'.format(epoch, num_epochs - 1))\n",
    "        print('-' * 10)\n",
    "\n",
    "        phase_train(model, criterion, optimizer, scheduler)\n",
    "        best_model_wts = phase_test(model, criterion, optimizer)\n",
    "        print()\n",
    "    \n",
    "    print('Best test Acc: {:4f}'.format(best_acc))\n",
    "\n",
    "    model.load_state_dict(best_model_wts)\n",
    "    return model"
   ]
  },
  {
   "cell_type": "markdown",
   "metadata": {},
   "source": [
    "#### Call the build_model function\n",
    "We set the number of epochs to 1 here, as it takes about 30 minutes for this model to be built. When running on a cloud platform VM with a GPU, we were able to run about 6 epochs and got accuracy levels upwards of 90%"
   ]
  },
  {
   "cell_type": "code",
   "execution_count": null,
   "metadata": {},
   "outputs": [],
   "source": [
    "model = build_model(model, \n",
    "                    criterion, \n",
    "                    optimizer, \n",
    "                    exp_lr_scheduler, \n",
    "                    num_epochs=1)"
   ]
  },
  {
   "cell_type": "markdown",
   "metadata": {},
   "source": [
    "#### Lets check how our model performs\n",
    "We will take one batch from test datasets (and we have batches of 8 images) and we will predict the correct label\n"
   ]
  },
  {
   "cell_type": "code",
   "execution_count": null,
   "metadata": {},
   "outputs": [],
   "source": [
    "with torch.no_grad():\n",
    "    \n",
    "    inputs, labels = iter(dataloaders['test']).next()\n",
    "    inp = torchvision.utils.make_grid(inputs)\n",
    "    \n",
    "    outputs = model(inputs)\n",
    "    _, preds = torch.max(outputs, 1)\n",
    "    \n",
    "    for j in range(len(inputs)):\n",
    "        inp = inputs.data[j]\n",
    "        img_show(inp, 'predicted:' + class_names[preds[j]])"
   ]
  },
  {
   "cell_type": "code",
   "execution_count": null,
   "metadata": {
    "collapsed": true
   },
   "outputs": [],
   "source": []
  },
  {
   "cell_type": "markdown",
   "metadata": {},
   "source": [
    "### Freezing a model's layers\n",
    "Here, we freeze all the layers in the network except the final layer.<br> \n",
    "We need to set requires_grad == False to freeze the parameters so that the gradients are not computed in backward()."
   ]
  },
  {
   "cell_type": "code",
   "execution_count": 42,
   "metadata": {
    "collapsed": true
   },
   "outputs": [],
   "source": [
    "frozen_model = models.resnet18(pretrained=True)"
   ]
  },
  {
   "cell_type": "code",
   "execution_count": 43,
   "metadata": {
    "collapsed": true
   },
   "outputs": [],
   "source": [
    "for param in frozen_model.parameters():\n",
    "    param.requires_grad = False"
   ]
  },
  {
   "cell_type": "markdown",
   "metadata": {},
   "source": [
    "#### We add the final layer which is not frozen"
   ]
  },
  {
   "cell_type": "code",
   "execution_count": 44,
   "metadata": {
    "collapsed": true
   },
   "outputs": [],
   "source": [
    "frozen_model.fc = nn.Linear(num_ftrs, len(class_names))"
   ]
  },
  {
   "cell_type": "markdown",
   "metadata": {},
   "source": [
    "#### Add an optimizer - for only the final layer\n",
    "There is no gradient calculation for the other layers, so we cannot use an optimizer for those"
   ]
  },
  {
   "cell_type": "code",
   "execution_count": 45,
   "metadata": {
    "collapsed": true
   },
   "outputs": [],
   "source": [
    "optimizer = optim.SGD(frozen_model.fc.parameters(), \n",
    "                      lr=0.001, \n",
    "                      momentum=0.9)"
   ]
  },
  {
   "cell_type": "markdown",
   "metadata": {},
   "source": [
    "#### Create a scheduler for this model\n",
    "Just like with the earlier model, we attach a scheduler to this optimizer in order to slow down the learning rate"
   ]
  },
  {
   "cell_type": "code",
   "execution_count": 46,
   "metadata": {
    "collapsed": true
   },
   "outputs": [],
   "source": [
    "exp_lr_scheduler = lr_scheduler.StepLR(optimizer, \n",
    "                                       step_size=7, \n",
    "                                       gamma=0.1)"
   ]
  },
  {
   "cell_type": "markdown",
   "metadata": {},
   "source": [
    "#### The loss calculation is the same CrossEntropyLoss as earlier\n",
    "This is just included here as a reminder as we are not changing the definition"
   ]
  },
  {
   "cell_type": "code",
   "execution_count": 47,
   "metadata": {
    "collapsed": true
   },
   "outputs": [],
   "source": [
    "criterion = nn.CrossEntropyLoss()"
   ]
  },
  {
   "cell_type": "markdown",
   "metadata": {},
   "source": [
    "#### Reset the best_acc score\n",
    "This is so that the new frozen model can start from scratch"
   ]
  },
  {
   "cell_type": "code",
   "execution_count": 48,
   "metadata": {
    "collapsed": true
   },
   "outputs": [],
   "source": [
    "best_acc = 0.0"
   ]
  },
  {
   "cell_type": "markdown",
   "metadata": {},
   "source": [
    "#### Build the new model with the frozen layers\n",
    "This is similar to what we did previously. Except this time, the gradient calculation is turned off for the parameters when a call is made to backward()"
   ]
  },
  {
   "cell_type": "code",
   "execution_count": null,
   "metadata": {},
   "outputs": [],
   "source": [
    "frozen_model = build_model(frozen_model, \n",
    "                           criterion, \n",
    "                           optimizer, \n",
    "                           exp_lr_scheduler, \n",
    "                           num_epochs=1)"
   ]
  },
  {
   "cell_type": "markdown",
   "metadata": {},
   "source": [
    "#### We test a batch of fruits on this new model"
   ]
  },
  {
   "cell_type": "code",
   "execution_count": null,
   "metadata": {},
   "outputs": [],
   "source": [
    "with torch.no_grad():\n",
    "    \n",
    "    inputs, labels = iter(dataloaders['test']).next()\n",
    "    inp = torchvision.utils.make_grid(inputs)\n",
    "    \n",
    "    outputs = frozen_model(inputs)\n",
    "    _, preds = torch.max(outputs, 1)\n",
    "    \n",
    "    for j in range(len(inputs)):\n",
    "        inp = inputs.data[j]\n",
    "        img_show(inp, 'predicted:' + class_names[preds[j]])"
   ]
  },
  {
   "cell_type": "code",
   "execution_count": null,
   "metadata": {
    "collapsed": true
   },
   "outputs": [],
   "source": []
  }
 ],
 "metadata": {
  "kernelspec": {
   "display_name": "Python 3",
   "language": "python",
   "name": "python3"
  },
  "language_info": {
   "codemirror_mode": {
    "name": "ipython",
    "version": 3
   },
   "file_extension": ".py",
   "mimetype": "text/x-python",
   "name": "python",
   "nbconvert_exporter": "python",
   "pygments_lexer": "ipython3",
   "version": "3.7.1"
  }
 },
 "nbformat": 4,
 "nbformat_minor": 2
}
